{
 "cells": [
  {
   "cell_type": "markdown",
   "metadata": {},
   "source": [
    "# 1. Test Random Environment with OpenAI Gym"
   ]
  },
  {
   "cell_type": "code",
   "execution_count": 1,
   "metadata": {},
   "outputs": [],
   "source": [
    "__credits__ = [\"Desmond N.A. Hammond\"]\n",
    "%matplotlib widget\n",
    "\n",
    "from os import path\n",
    "from typing import Optional\n",
    "import numpy as np\n",
    "import gym\n",
    "from gym import spaces\n",
    "from gym.envs.classic_control import utils\n",
    "from gym.error import DependencyNotInstalled\n",
    "from numba import cuda, jit\n",
    "from time import time, sleep\n",
    "import numpy as np\n",
    "from math import acos, pi\n",
    "import matplotlib.pyplot as plt\n",
    "from IPython.display import display\n",
    "from ipywidgets import interactive, widgets, IntSlider, Video\n",
    "from matplotlib import animation\n",
    "from matplotlib import rc\n",
    "from IPython.display import HTML, Javascript\n",
    "from IPython.display import Video\n",
    "from IPython.display import clear_output\n",
    "\n",
    "# equivalent to rcParams['animation.html'] = 'html5'\n",
    "# rc('animation', html='html5')\n",
    "\n",
    "linestyle_tuple = [\n",
    "     ('loosely dotted',        (0, (1, 10))),\n",
    "     ('dotted',                (0, (1, 1))),\n",
    "     ('densely dotted',        (0, (1, 1))),\n",
    "     ('long dash with offset', (5, (10, 3))),\n",
    "     ('loosely dashed',        (0, (5, 10))),\n",
    "     ('dashed',                (0, (5, 5))),\n",
    "     ('densely dashed',        (0, (5, 1))),\n",
    "\n",
    "     ('loosely dashdotted',    (0, (3, 10, 1, 10))),\n",
    "     ('dashdotted',            (0, (3, 5, 1, 5))),\n",
    "     ('densely dashdotted',    (0, (3, 1, 1, 1))),\n",
    "\n",
    "     ('dashdotdotted',         (0, (3, 5, 1, 5, 1, 5))),\n",
    "     ('loosely dashdotdotted', (0, (3, 10, 1, 10, 1, 10))),\n",
    "     ('densely dashdotdotted', (0, (3, 1, 1, 1, 1, 1)))]\n",
    "\n",
    "\n"
   ]
  },
  {
   "cell_type": "code",
   "execution_count": 2,
   "metadata": {},
   "outputs": [],
   "source": [
    "class PMSMEnv(gym.Env):\n",
    "\n",
    "    metadata = {\"render_modes\": [\"human\", \"rgb_array\"], \"render_fps\": 4}\n",
    "\n",
    "    def __init__(self, render_mode: Optional[str] = None, parameters: Optional[dict] = None):\n",
    "        #Initialize motor and all necessary parameters   \n",
    "        if parameters is None:\n",
    "            self.Rs = np.array(0.5) \n",
    "            self.Ld = np.array(3.5e-3)\n",
    "            self.Lq = np.array(5e-3)\n",
    "            self.p = np.array(3.)\n",
    "            self.psi_f = np.array(0.33)\n",
    "            self.Bm = np.array(0.0028)\n",
    "            self.J = np.array(0.004)\n",
    "            self.max_speed = np.array(500.)\n",
    "            self.max_torque = np.array(10.)\n",
    "            self.max_voltage = np.array(800.)\n",
    "            self.max_current = np.array(500.)\n",
    "            self.dt = np.array(0.001)\n",
    "            self.simTime = np.array(1.)\n",
    "        else:\n",
    "            self.Rs = np.array(parameters.get(\"Rs\")) if \"Rs\" in parameters else np.array(0.5) \n",
    "            self.Ld = np.array(parameters.get(\"Ld\")) if \"Ld\" in parameters else np.array(3.5e-3)\n",
    "            self.Lq = np.array(parameters.get(\"Lq\")) if \"Lq\" in parameters else np.array(5e-3)\n",
    "            self.p = np.array(parameters.get(\"p\")) if \"p\" in parameters else np.array(3.)\n",
    "            self.psi_f = np.array(parameters.get(\"psi_f\")) if \"psi_f\" in parameters else np.array(0.33)\n",
    "            self.Bm = np.array(parameters.get(\"Bm\")) if \"Bm\" in parameters else np.array(0.0028)\n",
    "            self.J = np.array(parameters.get(\"J\")) if \"J\" in parameters else np.array(0.004)\n",
    "            self.max_speed = np.array(parameters.get(\"max_speed\")) if \"max_speed\" in parameters else np.array(500.)\n",
    "            self.max_torque = np.array(parameters.get(\"max_torque\")) if \"max_torque\" in parameters else np.array(10.)\n",
    "            self.max_voltage = np.array(parameters.get(\"max_voltage\")) if \"max_voltage\" in parameters else np.array(800.)\n",
    "            self.max_current = np.array(parameters.get(\"max_current\")) if \"max_current\" in parameters else np.array(500.)  \n",
    "            self.dt = np.array(parameters.get(\"sample_time\")) if \"sample_time\" in parameters else np.array(0.001)\n",
    "            self.simTime = np.array(parameters.get(\"simulation_time\")) if \"simulation_time\" in parameters else np.array(1.) \n",
    "        \n",
    "        assert render_mode is None or render_mode in self.metadata[\"render_modes\"]\n",
    "        self.render_mode = render_mode\n",
    "        self.n = np.prod(2)\n",
    "        min_action = np.array([-self.max_voltage, -self.max_voltage], dtype=np.float32)\n",
    "        max_action = np.array([self.max_voltage, self.max_voltage], dtype=np.float32)\n",
    "\n",
    "        min_observation = np.array([-self.max_current, -self.max_current, -self.max_speed, np.array(0.)], dtype=np.float32)\n",
    "        max_observation = np.array([self.max_current, self.max_current, self.max_speed, 2*np.pi], dtype=np.float32)\n",
    "\n",
    "        self.action_space = spaces.Box(low=min_action, high=max_action, shape=(2,), dtype=np.float32)\n",
    "        self.action_space.__dict__['n'] = 2\n",
    "        self.observation_space = spaces.Box(low=min_observation, high=max_observation, shape=(4,), dtype=np.float32)\n",
    "        self.t = t = np.linspace(0, self.simTime, int(self.simTime/self.dt))\n",
    "        self.sim_length = len(t)\n",
    "        \n",
    "        print('t', len(t))\n",
    "        # State variables\n",
    "        self.state = None\n",
    "        self.reset()\n",
    "        \n",
    "    \n",
    "    def rungekutta4_step(self, diff_eqn, x0, dt):\n",
    "        k1 = diff_eqn(x0)\n",
    "        k2 = diff_eqn(x0 + k1 * dt/2.)\n",
    "        k3 = diff_eqn(x0 + k2 * dt/2.)\n",
    "        k4 = diff_eqn(x0 + k3 * dt)\n",
    "        return x0 + (dt/6.) * (k1 + 2*k2 + 2*k3 + k4)\n",
    "        \n",
    "    def step(self, u, id_ref, iq_ref, omega_ref, theta_ref, T_load, episode):\n",
    "        self.id_ref = np.array(id_ref)\n",
    "        self.iq_ref = np.array(iq_ref)\n",
    "        self.omega_ref = np.array(omega_ref)\n",
    "        self.theta_ref = np.array(theta_ref)\n",
    "\n",
    "        self.T_load = np.clip(T_load, -self.max_torque, self.max_torque)\n",
    "        self.vd, self.vq = np.clip(u, -self.max_voltage, self.max_voltage).tolist()\n",
    "        self.x_prev = np.array([self.id,self.iq,self.omega,self.theta])\n",
    "        \n",
    "        # Compute new states\n",
    "        self.id, self.iq, self.omega, self.theta = self.rungekutta4_step(diff_eqn=self.Xdot, x0=self.x_prev, dt=self.dt).tolist()\n",
    "        self.x_current = np.array([self.id,self.iq,self.omega,self.theta])\n",
    "        self.id_dot, self.iq_dot, self.omega_dot, self.theta_dot = self.Xdot(self.x_current).tolist()\n",
    "        self.lambda_d = self.Ld*self.id + self.psi_f\n",
    "        self.lambda_q = self.Lq*self.iq\n",
    "        self.Te = (3/2)*(self.p)*(self.lambda_d*self.iq - self.lambda_q*self.id)\n",
    "        \n",
    "        # if self.render_mode == \"human\":\n",
    "        #     self.render()\n",
    "        \n",
    "        # calculate error\n",
    "        self.id_error = self.id - self.id_ref\n",
    "        self.iq_error = self.iq - self.iq_ref\n",
    "        self.omega_error = self.omega - self.omega_ref \n",
    "        self.theta_error = self.omega - self.theta_ref\n",
    "\n",
    "        # calculate error\n",
    "        self.reward = -np.abs(self.id_error) -np.abs(self.omega_error)\n",
    "\n",
    "        # check if episode is done\n",
    "        done = self.step_count==self.sim_length-1\n",
    "        self.step_count += 1 if not done else -1\n",
    "\n",
    "        self.dataset1[self.step_count,:] = np.array([np.array(self.id), np.array(self.iq), np.array(self.omega), np.array(np.mod(self.theta,2*np.pi)), np.array(self.id_dot), np.array(self.iq_dot),\n",
    "                                            np.array(self.omega_dot), np.array(self.theta_dot), np.array(self.id_error), np.array(self.iq_error), np.array(self.omega_error), \n",
    "                                            np.array(self.vd), np.array(self.Te), np.array(self.lambda_d), np.array(self.reward), np.array(self.vq)], dtype=object)\n",
    "        \n",
    "        self.dataset2[self.step_count,:] = np.array([self.id_ref, self.iq_ref, self.omega_ref, self.theta_ref, np.nan, np.nan, np.nan, np.nan, np.nan, np.nan, np.nan, np.nan, \n",
    "                                        self.T_load, self.lambda_q, np.nan, np.nan], dtype=object).reshape(1,-1)\n",
    "        \n",
    "        \n",
    "        # self.dataset1[self.step_count,:] = np.random.rand(16)            \n",
    "        # self.dataset2[self.step_count,:] = np.random.rand(16)\n",
    "\n",
    "        # if done:\n",
    "            # anim = animation.ArtistAnimation(self.fig, self.ims, interval=60, blit=True, repeat_delay=1000, repeat=True).save(f\"episode{episode}.mp4\")\n",
    "            # self.ims = []\n",
    "            # self.dataset1 = np.zeros(shape=(int(self.simTime/self.dt),16))*(np.nan)\n",
    "            # self.dataset2 = np.zeros(shape=(int(self.simTime/self.dt),16))*(np.nan)\n",
    "            \n",
    "            \n",
    "            # for ax in self.ax: ax.cla() \n",
    "            # HTML(anim.to_html5_video())\n",
    "            #Javascript('document.querySelector(\".anim-buttons > button:nth-child(6)\").click()') \n",
    "        # set placeholder for info\n",
    "        info = {}\n",
    "        return self.get_observations(), self.reward, done, info\n",
    "\n",
    "    def get_observations(self):\n",
    "\n",
    "        # sensor measurement noise can be implemented here\n",
    "        observations = np.array([self.id, self.iq, self.omega, self.theta], dtype=np.float32)\n",
    "        return np.array([self.id[0], self.iq[0], self.omega[0],  self.theta[0]], dtype=np.float32)\n",
    "\n",
    "    def _get_info(self):\n",
    "        # return {\"distance\": np.linalg.norm(self._agent_location - self._target_location, ord=1)}\n",
    "        pass\n",
    "\n",
    "    def Xdot(self, xdot):\n",
    "        id_, iq_, omega_, theta_= xdot.tolist()\n",
    "\n",
    "        x_dot = np.array([self.vd/self.Ld - (self.Rs*id_)/self.Ld + (self.Lq*iq_*omega_*self.p)/self.Ld,\n",
    "                         self.vq/self.Lq - (self.Rs*iq_)/self.Lq - (omega_*self.p*self.psi_f)/self.Lq - (self.Ld*id_*omega_*self.p)/self.Lq,\n",
    "                         -(self.T_load + self.Bm*omega_ - (3*self.p*(iq_*(self.psi_f + self.Ld*id_) - self.Lq*id_*iq_))/2)/self.J,\n",
    "                         omega_])\n",
    "            \n",
    "        id_dot, iq_dot, omega_dot, theta_dot = x_dot.tolist()\n",
    "        \n",
    "        return np.array([id_dot, iq_dot, omega_dot, theta_dot])\n",
    "\n",
    "\n",
    "    def reset(self, *, seed: Optional[int] = None, options: Optional[dict] = None):\n",
    "        super().reset(seed=seed)\n",
    "        self.state = None\n",
    "        self.step_count = -1\n",
    "        self.dataset1 = np.zeros(shape=(int(self.simTime/self.dt),16))*(np.nan)\n",
    "        self.dataset2 = np.zeros(shape=(int(self.simTime/self.dt),16))*(np.nan)\n",
    "        self.ims = []\n",
    "           \n",
    "       \n",
    "        # reset state variables\n",
    "        if options is None:\n",
    "            self.id_dot = np.array([0.])\n",
    "            self.iq_dot = np.array([0.])\n",
    "            self.omega_dot = np.array([0.])            \n",
    "            self.theta_dot = np.array([0.])            \n",
    "            self.id = np.array([0.])\n",
    "            self.iq = np.array([0.])\n",
    "            self.omega = np.array([0.])\n",
    "            self.theta = np.array([0.])\n",
    "        else:\n",
    "            self.id = options.get(\"id_init\") if \"id_init\" in options else np.array([0.])\n",
    "            self.iq = options.get(\"iq_init\") if \"iq_init\" in options else np.array([0.])\n",
    "            self.omega = options.get(\"omega_init\") if \"omega_init\" in options else np.array([0.])\n",
    "            self.theta = options.get(\"theta_init\") if \"theta_init\" in options else np.array([0.])\n",
    "            self.id_dot = np.array([0.])\n",
    "            self.iq_dot = np.array([0.])\n",
    "            self.omega_dot = np.array([0.])\n",
    "            self.theta_dot = np.array([0.])\n",
    "\n",
    "        return self.get_observations(), {}\n",
    "\n",
    "   \n",
    "    def render(self, options: Optional[int] = None):\n",
    "        self.render_fps = np.array(options.get(\"render_fps\")) if \"render_fps\" in options else np.array(60) \n",
    "        # if mode != 'console':\n",
    "        #     raise NotImplementedError()\n",
    "        # agent is represented as a cross, rest as a dot\n",
    "        # create a figure and axes\n",
    "        self.fig = plt.figure(figsize=(25,10))\n",
    "        self.num_subplots = 16\n",
    "        self.nrows = 4\n",
    "        self.ncols =int(int(self.num_subplots/self.nrows))\n",
    "        self.ax = [None]*self.num_subplots\n",
    "        self.line1 = [None]*self.num_subplots\n",
    "        self.line2 = [None]*self.num_subplots\n",
    "        self.label1 = ['id', 'iq', 'omega', 'theta', 'id_dot', 'iq_dot', 'omega_dot', 'theta_dot', 'id_error', 'iq_error', 'omega_error', 'vd', 'T_elec', 'lambda_d', 'reward', 'vq']\n",
    "        self.label2 = ['id_ref', 'iq_ref', 'omega_ref', 'theta_ref', '_', '_', '_', '_', '_', '_', '_', '_', 'T_load', 'lambda_q', '_', '_']\n",
    "        self.ims = []\n",
    "\n",
    "        for i in range(self.num_subplots):\n",
    "            # create axes\n",
    "            self.ax[i] = plt.subplot(self.nrows,self.ncols,i+1, autoscale_on=True)\n",
    "            self.ax[i].set_xlim(( 0, self.simTime))       \n",
    "            # ax[i].set_ylim()\n",
    "            self.ax[i].set_xlabel('Time') if i>=(self.num_subplots-4) else self.ax[i].tick_params('x', labelbottom=False)\n",
    "            #self.ax[i].tick_params('x', labelbottom=False)\n",
    "            # ax[i].set_ylabel('Magnitude')\n",
    "            self.ax[i].set_title(self.label1[i])\n",
    "            # ax[i].legend([label1[i], label2[i]])\n",
    "            self.ax[i].grid(True)# create objects that will change in the animation. These are initially empty, and will be given new values for each frame in the animation.\n",
    "            self.ax[i].autoscale(enable=True)\n",
    "            # self.ax[i].text(0.02, 0.95, '', transform=self.ax[i].transAxes)\n",
    "            # self.ax[i].text(0.02, 0.90, '', transform=self.ax[i].transAxes)\n",
    "        plt.tight_layout()\n",
    "        plt.close()\n",
    "\n",
    "    def step_draw(self, done, episode):\n",
    "        if self.step_count%int(self.sim_length/self.render_fps) == 0:\n",
    "            self.fig.suptitle(f'Episode:{episode}')\n",
    "            for i in range(self.num_subplots): #plot data\n",
    "                self.line1[i], = self.ax[i].plot(self.t, self.dataset1[:,i], color='blue', lw=1, animated=True)     # ax.plot returns a list of 2D line objects\n",
    "                self.line2[i], = self.ax[i].plot(self.t, self.dataset2[:,i],  linestyle='dotted', color='red', lw=1, animated=True)\n",
    "                # self.fig.supxlabel(f'Time:{self.step_count*self.dt}')\n",
    "            self.ims.append(tuple(self.line1 + self.line2))\n",
    "        if done:\n",
    "            anim = animation.ArtistAnimation(self.fig, self.ims, interval=60, blit=True, repeat_delay=1000, repeat=True).save(f\"episode{episode}.mp4\")\n",
    "            for ax, label in zip(self.ax,self.label1): \n",
    "                ax.cla(); \n",
    "                ax.grid(True)\n",
    "                ax.set_title(label)\n",
    "        # print(self.step_count)\n",
    "        return\n",
    "\n",
    "        # choose the interval based on dt and the time to animate one step\n",
    "        # t0 = time()\n",
    "        # drawframe(0)\n",
    "        # t1 = time()\n",
    "        # interval = 1000*self.dt - (t1 - t0)\n",
    "        # print(interval,'interva\n",
    "                \n",
    "    def close(self):\n",
    "        pass"
   ]
  },
  {
   "cell_type": "code",
   "execution_count": 3,
   "metadata": {},
   "outputs": [
    {
     "name": "stdout",
     "output_type": "stream",
     "text": [
      "t 5000\n"
     ]
    }
   ],
   "source": [
    "env = PMSMEnv(\n",
    "    render_mode='human',\n",
    "    parameters = {            \n",
    "                    \"Rs\" : 0.5,\n",
    "                    \"Ld\" : 3.5e-3,\n",
    "                    \"Lq\" : 5e-3,\n",
    "                    \"p\" : 3.,\n",
    "                    \"psi_f\" : 0.33,\n",
    "                    \"Bm\" : 0.0028,\n",
    "                    \"J\" : 0.004,\n",
    "                    \"max_speed\" : 500.,\n",
    "                    \"max_torque\" : 10.,\n",
    "                    \"max_voltage\" : 800.,\n",
    "                    \"max_current\" : 500.,\n",
    "                    \"sample_time\" : 0.001,\n",
    "                    \"simulation_time\" : 5.\n",
    "                }\n",
    ")\n"
   ]
  },
  {
   "cell_type": "code",
   "execution_count": 149,
   "metadata": {},
   "outputs": [],
   "source": [
    "env.render(options= {'render_fps':30} )\n"
   ]
  },
  {
   "cell_type": "code",
   "execution_count": 150,
   "metadata": {},
   "outputs": [],
   "source": [
    "env.action_space.sample()\n",
    "action = np.random.randint(0,100)\n"
   ]
  },
  {
   "cell_type": "code",
   "execution_count": 153,
   "metadata": {},
   "outputs": [
    {
     "name": "stdout",
     "output_type": "stream",
     "text": [
      "Episode:1 Score:[-29467.15624157]\n",
      "Episode:2 Score:[-106612.26872597]\n"
     ]
    }
   ],
   "source": [
    "env.observation_space.sample(), env.action_space.sample()\n",
    "episodes = 2\n",
    "for episode in range(1, episodes+1):\n",
    "    initial_conditions = {  \"id_init\": np.array([0.]),\n",
    "                            \"iq_init\": np.array([3.]),                            \n",
    "                            \"omega_init\": np.array([0.]),\n",
    "                            \"theta_init\": np.array([0.])\n",
    "                         }\n",
    "    state = env.reset(options=initial_conditions)\n",
    "    done = False\n",
    "    score = 0 \n",
    "    action1 = np.random.randint(0,100)\n",
    "    T_load = np.random.randint(0,50)\n",
    "\n",
    "    while not done:\n",
    "        #env.render()\n",
    "        # action = action1\n",
    "        action = np.array([1, action1 ], dtype=np.float32)\n",
    "        id_ref = 0\n",
    "        iq_ref = 0\n",
    "        omega_ref = 2\n",
    "        theta_ref = 2\n",
    "        n_state, reward, done, info = env.step(action, id_ref, iq_ref, omega_ref, theta_ref, T_load, episode)\n",
    "        # env.step_draw(done, episode)   \n",
    "        score+=reward\n",
    "        \n",
    "    print('Episode:{} Score:{}'.format(episode, score))\n"
   ]
  },
  {
   "cell_type": "code",
   "execution_count": 8,
   "metadata": {},
   "outputs": [
    {
     "data": {
      "text/html": [
       "<video controls muted autoplay  >\n",
       " <source src=\"data:video/mp4;base64,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\" type=\"video/mp4\">\n",
       " Your browser does not support the video tag.\n",
       " </video>"
      ],
      "text/plain": [
       "<IPython.core.display.Video object>"
      ]
     },
     "execution_count": 8,
     "metadata": {},
     "output_type": "execute_result"
    }
   ],
   "source": [
    "from IPython.display import Video\n",
    "from ipywidgets import Output, GridspecLayout\n",
    "from IPython import display\n",
    "import os, re, glob\n",
    "from pathlib import Path \n",
    "from IPython.display import HTML\n",
    "from base64 import b64encode\n",
    "\n",
    "\n",
    "path = Path('.')\n",
    "filepaths=sorted(glob.glob( os.path.join(path, '*.mp4') ),key=lambda x:float(re.findall(\"([0-9]+?)\\.mp4\",x)[0]))\n",
    "\n",
    "# grid = GridspecLayout(4, len(filepaths))\n",
    "\n",
    "# for i, filepath in enumerate(filepaths):\n",
    "#     out = Output()\n",
    "#     with out:\n",
    "#         display.display(display.Video(filepath, embed=True, html_attributes=\"controls muted autoplay\"))\n",
    "#     grid[0, i] = out\n",
    "\n",
    "html_str=\"\"\n",
    "\n",
    "for filepath in filepaths:\n",
    "  mp4 = open(filepath,'rb').read()\n",
    "  data_url = \"data:video/mp4;base64,\" + b64encode(mp4).decode()\n",
    "  html_str += \"\"\"\n",
    "  <video width=400 controls muted autoplay\">\n",
    "        <source src=\"%s\" type=\"video/mp4\">\n",
    "  </video>\n",
    "  \"\"\" % data_url\n",
    "HTML(html_str)\n",
    "\n",
    "Video(filepaths[0], embed=True, html_attributes=\"controls muted autoplay\")"
   ]
  },
  {
   "cell_type": "code",
   "execution_count": 9,
   "metadata": {},
   "outputs": [
    {
     "data": {
      "text/plain": [
       "['pillow', 'ffmpeg', 'ffmpeg_file', 'html']"
      ]
     },
     "execution_count": 9,
     "metadata": {},
     "output_type": "execute_result"
    }
   ],
   "source": [
    "import matplotlib.animation as manimation; \n",
    "manimation.writers.list() "
   ]
  },
  {
   "cell_type": "markdown",
   "metadata": {},
   "source": [
    "Make plots appear as a pop up window, chose the backend: 'gtk', 'inline', 'osx', 'qt', 'qt4', 'tk', 'wx'"
   ]
  },
  {
   "cell_type": "markdown",
   "metadata": {},
   "source": []
  },
  {
   "cell_type": "markdown",
   "metadata": {},
   "source": [
    "# 2. Create a Deep Learning Model with Keras"
   ]
  },
  {
   "cell_type": "code",
   "execution_count": 60,
   "metadata": {},
   "outputs": [],
   "source": [
    "import numpy as np\n",
    "from tensorflow.keras.models import Sequential\n",
    "from tensorflow.keras.layers import Dense, Flatten\n",
    "from tensorflow.keras.optimizers import Adam\n",
    "from rl.agents import DDPGAgent, ContinuousDQNAgent, DQNAgent\n",
    "from rl.policy import BoltzmannQPolicy\n",
    "from rl.memory import SequentialMemory"
   ]
  },
  {
   "cell_type": "code",
   "execution_count": 73,
   "metadata": {},
   "outputs": [],
   "source": [
    "n_states = env.observation_space.shape[0]\n",
    "n_actions = env.action_space.n\n",
    "actions = env.action_space.sample()"
   ]
  },
  {
   "cell_type": "code",
   "execution_count": 74,
   "metadata": {},
   "outputs": [
    {
     "data": {
      "text/plain": [
       "(4,)"
      ]
     },
     "execution_count": 74,
     "metadata": {},
     "output_type": "execute_result"
    }
   ],
   "source": [
    "env.observation_space.shape"
   ]
  },
  {
   "cell_type": "code",
   "execution_count": 76,
   "metadata": {},
   "outputs": [
    {
     "data": {
      "text/plain": [
       "(2,)"
      ]
     },
     "execution_count": 76,
     "metadata": {},
     "output_type": "execute_result"
    }
   ],
   "source": [
    "n_actions\n",
    "states_shape\n",
    "actions.shape\n"
   ]
  },
  {
   "cell_type": "code",
   "execution_count": 111,
   "metadata": {},
   "outputs": [],
   "source": [
    "def build_model(n_states, n_actions):\n",
    "    model = Sequential()    \n",
    "    model.add(Dense(24, activation='relu', input_shape=(1,states_shape)))\n",
    "    model.add(Dense(24, activation='relu'))\n",
    "    model.add(Dense(n_actions, activation='linear'))\n",
    "    model.summary()\n",
    "    return model"
   ]
  },
  {
   "cell_type": "code",
   "execution_count": 112,
   "metadata": {},
   "outputs": [],
   "source": [
    "del model "
   ]
  },
  {
   "cell_type": "code",
   "execution_count": 125,
   "metadata": {},
   "outputs": [
    {
     "name": "stdout",
     "output_type": "stream",
     "text": [
      "Model: \"sequential_22\"\n",
      "_________________________________________________________________\n",
      " Layer (type)                Output Shape              Param #   \n",
      "=================================================================\n",
      " dense_66 (Dense)            (None, 1, 24)             120       \n",
      "                                                                 \n",
      " dense_67 (Dense)            (None, 1, 24)             600       \n",
      "                                                                 \n",
      " dense_68 (Dense)            (None, 1, 1)              25        \n",
      "                                                                 \n",
      "=================================================================\n",
      "Total params: 745\n",
      "Trainable params: 745\n",
      "Non-trainable params: 0\n",
      "_________________________________________________________________\n",
      "Model: \"sequential_23\"\n",
      "_________________________________________________________________\n",
      " Layer (type)                Output Shape              Param #   \n",
      "=================================================================\n",
      " dense_69 (Dense)            (None, 1, 24)             120       \n",
      "                                                                 \n",
      " dense_70 (Dense)            (None, 1, 24)             600       \n",
      "                                                                 \n",
      " dense_71 (Dense)            (None, 1, 2)              50        \n",
      "                                                                 \n",
      "=================================================================\n",
      "Total params: 770\n",
      "Trainable params: 770\n",
      "Non-trainable params: 0\n",
      "_________________________________________________________________\n",
      "Model: \"sequential_24\"\n",
      "_________________________________________________________________\n",
      " Layer (type)                Output Shape              Param #   \n",
      "=================================================================\n",
      " dense_72 (Dense)            (None, 1, 24)             120       \n",
      "                                                                 \n",
      " dense_73 (Dense)            (None, 1, 24)             600       \n",
      "                                                                 \n",
      " dense_74 (Dense)            (None, 1, 8)              200       \n",
      "                                                                 \n",
      "=================================================================\n",
      "Total params: 920\n",
      "Trainable params: 920\n",
      "Non-trainable params: 0\n",
      "_________________________________________________________________\n"
     ]
    }
   ],
   "source": [
    "V_model = build_model(n_states, 1)\n",
    "mu_model = build_model(n_states, n_actions)\n",
    "P_model = build_model(n_states, n_actions*n_states)\n",
    "\n",
    "# critic_model = build_model(states_shape, n_actions)"
   ]
  },
  {
   "cell_type": "markdown",
   "metadata": {},
   "source": [
    "# 3. Build Agent with Keras-RL"
   ]
  },
  {
   "cell_type": "code",
   "execution_count": 126,
   "metadata": {},
   "outputs": [
    {
     "data": {
      "text/plain": [
       "array([622.568   , -83.453636], dtype=float32)"
      ]
     },
     "execution_count": 126,
     "metadata": {},
     "output_type": "execute_result"
    }
   ],
   "source": [
    "actions"
   ]
  },
  {
   "cell_type": "code",
   "execution_count": 127,
   "metadata": {},
   "outputs": [
    {
     "data": {
      "text/plain": [
       "<function rl.agents.dqn.NAFAgent.__init__(self, V_model, L_model, mu_model, random_process=None, covariance_mode='full', *args, **kwargs)>"
      ]
     },
     "execution_count": 127,
     "metadata": {},
     "output_type": "execute_result"
    }
   ],
   "source": [
    "ContinuousDQNAgent.__init__\n",
    "\n",
    "\n"
   ]
  },
  {
   "cell_type": "code",
   "execution_count": 129,
   "metadata": {},
   "outputs": [
    {
     "data": {
      "text/plain": [
       "<function rl.agents.dqn.DQNAgent.__init__(self, model, policy=None, test_policy=None, enable_double_dqn=False, enable_dueling_network=False, dueling_type='avg', *args, **kwargs)>"
      ]
     },
     "execution_count": 129,
     "metadata": {},
     "output_type": "execute_result"
    }
   ],
   "source": [
    "DQNAgent.__init__"
   ]
  },
  {
   "cell_type": "code",
   "execution_count": 130,
   "metadata": {},
   "outputs": [],
   "source": [
    "model=(V_model, P_model, mu_model)"
   ]
  },
  {
   "cell_type": "code",
   "execution_count": 131,
   "metadata": {},
   "outputs": [],
   "source": [
    "def build_agent(*model, n_actions=None):\n",
    "    policy = BoltzmannQPolicy()\n",
    "    memory = SequentialMemory(limit=50000, window_length=1)\n",
    "    # dqn = ContinuousDQNAgent(model=model, memory=memory, policy=policy, \n",
    "    #               nb_actions=n_actions, nb_steps_warmup=10, target_model_update=1e-2)\n",
    "    dqn = ContinuousDQNAgent(V_model=V_model, L_model=P_model, mu_model=mu_model, random_process=None, covariance_mode='full', \n",
    "                  memory=memory, nb_actions=n_actions, nb_steps_warmup=10, target_model_update=1e-2)\n",
    "    return dqn"
   ]
  },
  {
   "cell_type": "code",
   "execution_count": 132,
   "metadata": {},
   "outputs": [
    {
     "data": {
      "text/plain": [
       "(array([171.19473 , -57.991627, 443.63757 ,   5.557103], dtype=float32),\n",
       " array([3.0203304e-01, 2.1085613e+01, 2.0347824e+00, 4.6245594e-04],\n",
       "       dtype=float32))"
      ]
     },
     "execution_count": 132,
     "metadata": {},
     "output_type": "execute_result"
    }
   ],
   "source": [
    "env.observation_space.sample(), env.get_observations()"
   ]
  },
  {
   "cell_type": "code",
   "execution_count": 133,
   "metadata": {},
   "outputs": [
    {
     "ename": "ValueError",
     "evalue": "Layer \"sequential_24\" expects 1 input(s), but it received 2 input tensors. Inputs received: [<tf.Tensor 'action_input_3:0' shape=(None, 2) dtype=float32>, <tf.Tensor 'observation_input_0_3:0' shape=(None, 1, 4) dtype=float32>]",
     "output_type": "error",
     "traceback": [
      "\u001b[0;31m---------------------------------------------------------------------------\u001b[0m",
      "\u001b[0;31mValueError\u001b[0m                                Traceback (most recent call last)",
      "Cell \u001b[0;32mIn [133], line 2\u001b[0m\n\u001b[1;32m      1\u001b[0m dqn \u001b[39m=\u001b[39m build_agent(model, n_actions\u001b[39m=\u001b[39mn_actions)\n\u001b[0;32m----> 2\u001b[0m dqn\u001b[39m.\u001b[39;49mcompile(Adam(learning_rate\u001b[39m=\u001b[39;49m\u001b[39m1e-3\u001b[39;49m), metrics\u001b[39m=\u001b[39;49m[\u001b[39m'\u001b[39;49m\u001b[39mmae\u001b[39;49m\u001b[39m'\u001b[39;49m])\n\u001b[1;32m      3\u001b[0m \u001b[39m# dqn.fit(env, nb_steps=50000, visualize=True, verbose=1)\u001b[39;00m\n\u001b[1;32m      4\u001b[0m dqn\u001b[39m.\u001b[39msummary()\n",
      "File \u001b[0;32m/usr/local/lib/python3.8/dist-packages/rl/agents/dqn.py:607\u001b[0m, in \u001b[0;36mNAFAgent.compile\u001b[0;34m(self, optimizer, metrics)\u001b[0m\n\u001b[1;32m    605\u001b[0m     observation_shapes \u001b[39m=\u001b[39m [\u001b[39mself\u001b[39m\u001b[39m.\u001b[39mV_model\u001b[39m.\u001b[39minput\u001b[39m.\u001b[39mshape[\u001b[39m1\u001b[39m:]]\n\u001b[1;32m    606\u001b[0m os_in \u001b[39m=\u001b[39m [Input(shape\u001b[39m=\u001b[39mshape, name\u001b[39m=\u001b[39m\u001b[39mf\u001b[39m\u001b[39m'\u001b[39m\u001b[39mobservation_input_\u001b[39m\u001b[39m{\u001b[39;00midx\u001b[39m}\u001b[39;00m\u001b[39m'\u001b[39m) \u001b[39mfor\u001b[39;00m idx, shape \u001b[39min\u001b[39;00m \u001b[39menumerate\u001b[39m(observation_shapes)]\n\u001b[0;32m--> 607\u001b[0m L_out \u001b[39m=\u001b[39m \u001b[39mself\u001b[39;49m\u001b[39m.\u001b[39;49mL_model([a_in] \u001b[39m+\u001b[39;49m os_in)\n\u001b[1;32m    608\u001b[0m V_out \u001b[39m=\u001b[39m \u001b[39mself\u001b[39m\u001b[39m.\u001b[39mV_model(os_in)\n\u001b[1;32m    610\u001b[0m mu_out \u001b[39m=\u001b[39m \u001b[39mself\u001b[39m\u001b[39m.\u001b[39mmu_model(os_in)\n",
      "File \u001b[0;32m/usr/local/lib/python3.8/dist-packages/keras/utils/traceback_utils.py:67\u001b[0m, in \u001b[0;36mfilter_traceback.<locals>.error_handler\u001b[0;34m(*args, **kwargs)\u001b[0m\n\u001b[1;32m     65\u001b[0m \u001b[39mexcept\u001b[39;00m \u001b[39mException\u001b[39;00m \u001b[39mas\u001b[39;00m e:  \u001b[39m# pylint: disable=broad-except\u001b[39;00m\n\u001b[1;32m     66\u001b[0m   filtered_tb \u001b[39m=\u001b[39m _process_traceback_frames(e\u001b[39m.\u001b[39m__traceback__)\n\u001b[0;32m---> 67\u001b[0m   \u001b[39mraise\u001b[39;00m e\u001b[39m.\u001b[39mwith_traceback(filtered_tb) \u001b[39mfrom\u001b[39;00m \u001b[39mNone\u001b[39m\n\u001b[1;32m     68\u001b[0m \u001b[39mfinally\u001b[39;00m:\n\u001b[1;32m     69\u001b[0m   \u001b[39mdel\u001b[39;00m filtered_tb\n",
      "File \u001b[0;32m/usr/local/lib/python3.8/dist-packages/keras/engine/input_spec.py:200\u001b[0m, in \u001b[0;36massert_input_compatibility\u001b[0;34m(input_spec, inputs, layer_name)\u001b[0m\n\u001b[1;32m    197\u001b[0m     \u001b[39mraise\u001b[39;00m \u001b[39mTypeError\u001b[39;00m(\u001b[39mf\u001b[39m\u001b[39m'\u001b[39m\u001b[39mInputs to a layer should be tensors. Got: \u001b[39m\u001b[39m{\u001b[39;00mx\u001b[39m}\u001b[39;00m\u001b[39m'\u001b[39m)\n\u001b[1;32m    199\u001b[0m \u001b[39mif\u001b[39;00m \u001b[39mlen\u001b[39m(inputs) \u001b[39m!=\u001b[39m \u001b[39mlen\u001b[39m(input_spec):\n\u001b[0;32m--> 200\u001b[0m   \u001b[39mraise\u001b[39;00m \u001b[39mValueError\u001b[39;00m(\u001b[39mf\u001b[39m\u001b[39m'\u001b[39m\u001b[39mLayer \u001b[39m\u001b[39m\"\u001b[39m\u001b[39m{\u001b[39;00mlayer_name\u001b[39m}\u001b[39;00m\u001b[39m\"\u001b[39m\u001b[39m expects \u001b[39m\u001b[39m{\u001b[39;00m\u001b[39mlen\u001b[39m(input_spec)\u001b[39m}\u001b[39;00m\u001b[39m input(s),\u001b[39m\u001b[39m'\u001b[39m\n\u001b[1;32m    201\u001b[0m                    \u001b[39mf\u001b[39m\u001b[39m'\u001b[39m\u001b[39m but it received \u001b[39m\u001b[39m{\u001b[39;00m\u001b[39mlen\u001b[39m(inputs)\u001b[39m}\u001b[39;00m\u001b[39m input tensors. \u001b[39m\u001b[39m'\u001b[39m\n\u001b[1;32m    202\u001b[0m                    \u001b[39mf\u001b[39m\u001b[39m'\u001b[39m\u001b[39mInputs received: \u001b[39m\u001b[39m{\u001b[39;00minputs\u001b[39m}\u001b[39;00m\u001b[39m'\u001b[39m)\n\u001b[1;32m    203\u001b[0m \u001b[39mfor\u001b[39;00m input_index, (x, spec) \u001b[39min\u001b[39;00m \u001b[39menumerate\u001b[39m(\u001b[39mzip\u001b[39m(inputs, input_spec)):\n\u001b[1;32m    204\u001b[0m   \u001b[39mif\u001b[39;00m spec \u001b[39mis\u001b[39;00m \u001b[39mNone\u001b[39;00m:\n",
      "\u001b[0;31mValueError\u001b[0m: Layer \"sequential_24\" expects 1 input(s), but it received 2 input tensors. Inputs received: [<tf.Tensor 'action_input_3:0' shape=(None, 2) dtype=float32>, <tf.Tensor 'observation_input_0_3:0' shape=(None, 1, 4) dtype=float32>]"
     ]
    }
   ],
   "source": [
    "dqn = build_agent(model, n_actions=n_actions)\n",
    "dqn.compile(Adam(learning_rate=1e-3), metrics=['mae'])\n",
    "# dqn.fit(env, nb_steps=50000, visualize=True, verbose=1)\n",
    "dqn.summary()"
   ]
  },
  {
   "cell_type": "code",
   "execution_count": null,
   "metadata": {},
   "outputs": [],
   "source": [
    "scores = dqn.test(env, nb_episodes=100, visualize=False)\n",
    "print(np.mean(scores.history['episode_reward']))"
   ]
  },
  {
   "cell_type": "code",
   "execution_count": null,
   "metadata": {},
   "outputs": [],
   "source": [
    "_ = dqn.test(env, nb_episodes=15, visualize=True)"
   ]
  },
  {
   "cell_type": "markdown",
   "metadata": {},
   "source": [
    "# 4. Reloading Agent from Memory"
   ]
  },
  {
   "cell_type": "code",
   "execution_count": null,
   "metadata": {},
   "outputs": [],
   "source": [
    "dqn.save_weights('dqn_weights.h5f', overwrite=True)"
   ]
  },
  {
   "cell_type": "code",
   "execution_count": null,
   "metadata": {},
   "outputs": [],
   "source": [
    "del model\n",
    "del dqn\n",
    "del env"
   ]
  },
  {
   "cell_type": "code",
   "execution_count": null,
   "metadata": {},
   "outputs": [],
   "source": [
    "env = gym.make('CartPole-v0')\n",
    "actions = env.action_space.n\n",
    "states = env.observation_space.shape[0]\n",
    "model = build_model(states, actions)\n",
    "dqn = build_agent(model, actions)\n",
    "dqn.compile(Adam(lr=1e-3), metrics=['mae'])"
   ]
  },
  {
   "cell_type": "code",
   "execution_count": null,
   "metadata": {},
   "outputs": [],
   "source": [
    "dqn.load_weights('dqn_weights.h5f')"
   ]
  },
  {
   "cell_type": "code",
   "execution_count": null,
   "metadata": {},
   "outputs": [],
   "source": [
    "_ = dqn.test(env, nb_episodes=5, visualize=True)"
   ]
  },
  {
   "cell_type": "code",
   "execution_count": null,
   "metadata": {},
   "outputs": [],
   "source": [
    "\n",
    "# state matrix\n",
    "a = g/(lp*(4.0/3 - mp/(mp+mk)))\n",
    "A = np.array([[0, 1, 0, 0],\n",
    "              [0, 0, a, 0],\n",
    "              [0, 0, 0, 1],\n",
    "              [0, 0, a, 0]])\n",
    "\n",
    "# input matrix\n",
    "b = -1/(lp*(4.0/3 - mp/(mp+mk)))\n",
    "B = np.array([[0], [1/mt], [0], [b]])"
   ]
  },
  {
   "cell_type": "code",
   "execution_count": null,
   "metadata": {},
   "outputs": [],
   "source": [
    "\n",
    "R = np.eye(2, dtype=int)          # choose R (weight for input)\n",
    "Q = 5*np.eye(4, dtype=int)        # choose Q (weight for state)\n",
    "\n",
    "# get riccati solver\n",
    "from scipy import linalg\n",
    "\n",
    "# solve ricatti equation\n",
    "P = linalg.solve_continuous_are(A, B, Q, R)\n",
    "\n",
    "# calculate optimal controller gain\n",
    "K = np.dot(np.linalg.inv(R),\n",
    "           np.dot(B.T, P))"
   ]
  },
  {
   "cell_type": "code",
   "execution_count": null,
   "metadata": {},
   "outputs": [],
   "source": [
    "def apply_state_controller(K, x):\n",
    "    # feedback controller\n",
    "    u = -np.dot(K, x)   # u = -Kx\n",
    "    if u > 0:\n",
    "        return 1, u     # if force_dem > 0 -> move cart right\n",
    "    else:\n",
    "        return 0, u     # if force_dem <= 0 -> move cart left"
   ]
  },
  {
   "cell_type": "code",
   "execution_count": null,
   "metadata": {},
   "outputs": [],
   "source": [
    "\n",
    "# get environment\n",
    "env = gym.make('CartPole-v0')\n",
    "env.env.seed(1)     # seed for reproducibility\n",
    "obs = env.reset()\n",
    "\n",
    "for i in range(1000):\n",
    "    env.render()\n",
    "    \n",
    "    # get force direction (action) and force value (force)\n",
    "    action, force = apply_state_controller(K, obs)\n",
    "    \n",
    "    # absolute value, since 'action' determines the sign, F_min = -10N, F_max = 10N\n",
    "    abs_force = abs(float(np.clip(force, -10, 10)))\n",
    "    \n",
    "    # change magnitute of the applied force in CartPole\n",
    "    env.env.force_mag = abs_force\n",
    "\n",
    "    # apply action\n",
    "    obs, reward, done, _ = env.step(action)\n",
    "    if done:\n",
    "        print(f'Terminated after {i+1} iterations.')\n",
    "        break\n",
    "\n",
    "env.close()"
   ]
  }
 ],
 "metadata": {
  "kernelspec": {
   "display_name": "Python 3 (ipykernel)",
   "language": "python",
   "name": "python3"
  },
  "language_info": {
   "codemirror_mode": {
    "name": "ipython",
    "version": 3
   },
   "file_extension": ".py",
   "mimetype": "text/x-python",
   "name": "python",
   "nbconvert_exporter": "python",
   "pygments_lexer": "ipython3",
   "version": "3.8.10"
  },
  "vscode": {
   "interpreter": {
    "hash": "e7370f93d1d0cde622a1f8e1c04877d8463912d04d973331ad4851f04de6915a"
   }
  }
 },
 "nbformat": 4,
 "nbformat_minor": 2
}
